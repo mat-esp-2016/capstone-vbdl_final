{
 "cells": [
  {
   "cell_type": "markdown",
   "metadata": {},
   "source": [
    "# Capstone: Analisando a temperatura do Brasil\n",
    "\n",
    "Nessa prática iremos juntar os conhecimentos que vimos durante toda a matéria. Vamos analisar os dados de temperatura do Brasil que vimos nas aulas de Python. Vamos utilizar uma [regressão linear](https://pt.wikipedia.org/wiki/Regress%C3%A3o_linear) para estimar a taxa de variação da temperatura ao longo dos anos. Finalmente, vamos visualizar esses valores em um mapa do Brasil.\n",
    "\n",
    "Faremos funções para cada etapa para podermos testar as partes do nosso código separadamente."
   ]
  },
  {
   "cell_type": "markdown",
   "metadata": {},
   "source": [
    "## Setup\n",
    "\n",
    "Abaixo, vamos carregar todas as bibliotecas que precisamos:\n",
    "\n",
    "* `numpy` para fazer contas com matrizes e vetores\n",
    "* `maptlotlib.pyplot` para fazer gráficos\n",
    "* `mpl_toolkits.basemap` para fazer mapas\n",
    "* `scipy.stats` para a regressão linear\n",
    "* `glob` para descobrir os nomes de todos os arquivos em uma pasta"
   ]
  },
  {
   "cell_type": "code",
   "execution_count": 1,
   "metadata": {
    "collapsed": false
   },
   "outputs": [],
   "source": [
    "%matplotlib inline\n",
    "import numpy as np\n",
    "import matplotlib.pyplot as plt\n",
    "from mpl_toolkits.basemap import Basemap\n",
    "from scipy.stats import linregress\n",
    "from glob import glob"
   ]
  },
  {
   "cell_type": "markdown",
   "metadata": {},
   "source": [
    "<div class=\"alert text-center\" style=\"font-size: 16pt\">\n",
    "Diferente das outras práticas, eu vou preecher o código inicial ao vivo durante a aula. \n",
    "<br><br>\n",
    "Façam junto comigo para não se perderem.\n",
    "</div>"
   ]
  },
  {
   "cell_type": "markdown",
   "metadata": {},
   "source": [
    "Tarefas:\n",
    "1 - Ler lat, lon\n",
    "2 - Ler tem\n",
    "3 - Ler as anomalias, anos demais,\n",
    "4 - Calcular o temperatura real\n",
    "5 - Regressão(anos, temperatura real)\n",
    "6 - Mapa(lat, lon e a)"
   ]
  },
  {
   "cell_type": "code",
   "execution_count": 2,
   "metadata": {
    "collapsed": false
   },
   "outputs": [],
   "source": [
    "def le_lat_lon(nome_arquivo):\n",
    "    arquivo = open(nome_arquivo)\n",
    "    for linhas in range(0,5):\n",
    "        linha = arquivo.readline()\n",
    "    partes = linha.split()\n",
    "    lat = float(partes[1])\n",
    "    if partes[2] == 'S,':\n",
    "        lat = -lat\n",
    "    lon = float(partes[3])\n",
    "    if partes[4] == 'W':\n",
    "        lon = -lon\n",
    "    return lat,lon"
   ]
  },
  {
   "cell_type": "code",
   "execution_count": 3,
   "metadata": {
    "collapsed": true
   },
   "outputs": [],
   "source": [
    "lat, lon = le_lat_lon(\"dados/0.80S-49.02W-TAVG-Trend.txt\")"
   ]
  },
  {
   "cell_type": "code",
   "execution_count": 4,
   "metadata": {
    "collapsed": false
   },
   "outputs": [],
   "source": [
    "def le_temp_abs(nome_arquivo):\n",
    "    arquivo = open(nome_arquivo)\n",
    "    for linhas in range(0,48):\n",
    "        linha = arquivo.readline()\n",
    "    partes = linha.split()\n",
    "    temp_abs = float(partes[8])\n",
    "    return temp_abs"
   ]
  },
  {
   "cell_type": "code",
   "execution_count": 5,
   "metadata": {
    "collapsed": true
   },
   "outputs": [],
   "source": [
    "temp_abs = le_temp_abs(\"dados/0.80S-49.02W-TAVG-Trend.txt\")"
   ]
  },
  {
   "cell_type": "code",
   "execution_count": 6,
   "metadata": {
    "collapsed": false
   },
   "outputs": [],
   "source": [
    "def le_anos_anomalias(nome_arquivo):\n",
    "    dados = np.loadtxt(nome_arquivo,comments=\"%\")\n",
    "    anomalia = dados[:,4]\n",
    "    anos = dados[:,0]\n",
    "    meses = dados[:,1]\n",
    "    anos_decimais = ( anos + ( meses / 12))\n",
    "    return anos_decimais, anomalia"
   ]
  },
  {
   "cell_type": "code",
   "execution_count": 7,
   "metadata": {
    "collapsed": true
   },
   "outputs": [],
   "source": [
    "anos, anom = le_anos_anomalias(\"dados/0.80S-49.02W-TAVG-Trend.txt\")"
   ]
  },
  {
   "cell_type": "code",
   "execution_count": 8,
   "metadata": {
    "collapsed": false
   },
   "outputs": [
    {
     "data": {
      "text/plain": [
       "[<matplotlib.lines.Line2D at 0x7feda74015c0>]"
      ]
     },
     "execution_count": 8,
     "metadata": {},
     "output_type": "execute_result"
    },
    {
     "data": {
      "image/png": "[encoded data removed]",
      "text/plain": [
       "<matplotlib.figure.Figure at 0x7feda748b198>"
      ]
     },
     "metadata": {},
     "output_type": "display_data"
    }
   ],
   "source": [
    "plt.figure()\n",
    "plt.plot(anos,anom,'-k')"
   ]
  },
  {
   "cell_type": "code",
   "execution_count": 9,
   "metadata": {
    "collapsed": true
   },
   "outputs": [],
   "source": [
    "temperaturas = temp_abs + anom"
   ]
  },
  {
   "cell_type": "code",
   "execution_count": 10,
   "metadata": {
    "collapsed": false
   },
   "outputs": [],
   "source": [
    "anos_sem_nan = []\n",
    "temperaturas_sem_nan = []\n",
    "for i in range(len(temperaturas)):\n",
    "    if not np.isnan(temperaturas[i]):\n",
    "        temperaturas_sem_nan.append(temperaturas[i])\n",
    "        anos_sem_nan.append(anos[i])"
   ]
  },
  {
   "cell_type": "code",
   "execution_count": 11,
   "metadata": {
    "collapsed": true
   },
   "outputs": [],
   "source": [
    "not_nan = ~np.isnan(temperaturas)\n",
    "temperaturas_sem_nan = temperaturas[not_nan]\n",
    "anos_sem_nan = anos[not_nan]"
   ]
  },
  {
   "cell_type": "code",
   "execution_count": 12,
   "metadata": {
    "collapsed": false
   },
   "outputs": [
    {
     "name": "stdout",
     "output_type": "stream",
     "text": [
      "0.00832160974446\n"
     ]
    }
   ],
   "source": [
    "a, b, r_value, p_value, std_err = linregress(anos_sem_nan, temperaturas_sem_nan)\n",
    "print(a)"
   ]
  },
  {
   "cell_type": "markdown",
   "metadata": {
    "collapsed": true
   },
   "source": [
    "**Course website**: https://github.com/mat-esp/about\n",
    "\n",
    "**Note**: This notebook is part of the course \"Matemática Especial I\" of the [Universidade do Estado do Rio de Janeiro](http://www.uerj.br/). All content can be freely used and adapted under the terms of the \n",
    "[Creative Commons Attribution 4.0 International License](http://creativecommons.org/licenses/by/4.0/).\n",
    "\n",
    "![Creative Commons License](https://i.creativecommons.org/l/by/4.0/88x31.png)"
   ]
  }
 ],
 "metadata": {
  "anaconda-cloud": {},
  "kernelspec": {
   "display_name": "Python [Root]",
   "language": "python",
   "name": "Python [Root]"
  },
  "language_info": {
   "codemirror_mode": {
    "name": "ipython",
    "version": 3
   },
   "file_extension": ".py",
   "mimetype": "text/x-python",
   "name": "python",
   "nbconvert_exporter": "python",
   "pygments_lexer": "ipython3",
   "version": "3.5.2"
  }
 },
 "nbformat": 4,
 "nbformat_minor": 0
}
